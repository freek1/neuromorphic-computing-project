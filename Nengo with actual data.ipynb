{
 "cells": [
  {
   "cell_type": "code",
   "execution_count": 2,
   "id": "4f6d1fbe",
   "metadata": {},
   "outputs": [],
   "source": [
    "# https://www.nengo.ai/nengo-examples/loihi/mnist-convnet.html"
   ]
  },
  {
   "cell_type": "code",
   "execution_count": 3,
   "id": "90091659",
   "metadata": {},
   "outputs": [],
   "source": [
    "import nengo\n",
    "import numpy as np\n",
    "import matplotlib.pyplot as plt"
   ]
  },
  {
   "cell_type": "code",
   "execution_count": 17,
   "id": "c5db0178",
   "metadata": {},
   "outputs": [],
   "source": [
    "train = np.load(\"spike_trains_train_fixed2.npy\")\n",
    "train = np.reshape(train, (40*41, 30, 2464)) # Reshape into [, n_freqbands, n_timeframes, n_timesteps n_samples] "
   ]
  },
  {
   "cell_type": "code",
   "execution_count": 18,
   "id": "6abd9185",
   "metadata": {},
   "outputs": [
    {
     "data": {
      "text/plain": [
       "(1640, 30, 2464)"
      ]
     },
     "execution_count": 18,
     "metadata": {},
     "output_type": "execute_result"
    }
   ],
   "source": [
    "train.shape"
   ]
  },
  {
   "cell_type": "code",
   "execution_count": 21,
   "id": "0033033d",
   "metadata": {},
   "outputs": [
    {
     "data": {
      "text/plain": [
       "(1640, 30)"
      ]
     },
     "execution_count": 21,
     "metadata": {},
     "output_type": "execute_result"
    }
   ],
   "source": [
    "input = train[:,:,0]\n",
    "input.shape"
   ]
  },
  {
   "cell_type": "code",
   "execution_count": 7,
   "id": "e5147590",
   "metadata": {},
   "outputs": [],
   "source": [
    "# Test zone ------------------------------\n",
    "\n",
    "# train[:,:,:,:].shape\n",
    "\n",
    "# ----------------------------------------"
   ]
  },
  {
   "cell_type": "code",
   "execution_count": 22,
   "id": "1d1ae5be",
   "metadata": {},
   "outputs": [],
   "source": [
    "# Parameters from the paper\n",
    "n_freqbands = 40\n",
    "n_timeframes = 41\n",
    "\n",
    "n_neurons = n_freqbands * n_timeframes\n",
    "\n",
    "n_timesteps = 30\n",
    "\n",
    "n_samples = 2464\n",
    "\n",
    "f_maps = 50\n",
    "window_size = [6* n_freqbands]\n",
    "\n",
    "mean = 0.8\n",
    "std = 0.05\n",
    "\n",
    "threshold = 23\n",
    "thresh_config = nengo.presets.ThresholdingEnsembles(threshold) # Set the threshold"
   ]
  },
  {
   "cell_type": "code",
   "execution_count": 33,
   "id": "2493e820",
   "metadata": {
    "scrolled": false
   },
   "outputs": [
    {
     "name": "stdout",
     "output_type": "stream",
     "text": [
      "30\n"
     ]
    },
    {
     "ename": "ValidationError",
     "evalue": "Connection.transform: Transform input size (1640) not equal to 'Node' output size (30)",
     "output_type": "error",
     "traceback": [
      "\u001b[1;31m---------------------------------------------------------------------------\u001b[0m",
      "\u001b[1;31mValidationError\u001b[0m                           Traceback (most recent call last)",
      "    \u001b[1;31m[... skipping hidden 1 frame]\u001b[0m\n",
      "Input \u001b[1;32mIn [33]\u001b[0m, in \u001b[0;36m<cell line: 3>\u001b[1;34m()\u001b[0m\n\u001b[0;32m     23\u001b[0m \u001b[38;5;66;03m#     # And then you can apply it on the input as preprocessing step\u001b[39;00m\n\u001b[1;32m---> 24\u001b[0m     conv_conn \u001b[38;5;241m=\u001b[39m \u001b[43mnengo\u001b[49m\u001b[38;5;241;43m.\u001b[39;49m\u001b[43mConnection\u001b[49m\u001b[43m(\u001b[49m\u001b[43minput_layer\u001b[49m\u001b[43m,\u001b[49m\u001b[43m \u001b[49m\u001b[43mpre\u001b[49m\u001b[43m,\u001b[49m\u001b[43m \u001b[49m\u001b[43mtransform\u001b[49m\u001b[43m \u001b[49m\u001b[38;5;241;43m=\u001b[39;49m\u001b[43m \u001b[49m\u001b[43mtransform\u001b[49m\u001b[43m)\u001b[49m\n\u001b[0;32m     26\u001b[0m     \u001b[38;5;66;03m# Learning rule\u001b[39;00m\n\u001b[0;32m     27\u001b[0m \u001b[38;5;66;03m#     learn_conn = nengo.Connection(\u001b[39;00m\n\u001b[0;32m     28\u001b[0m \u001b[38;5;66;03m#         pre, post,\u001b[39;00m\n\u001b[1;32m   (...)\u001b[0m\n\u001b[0;32m     33\u001b[0m     \n\u001b[0;32m     34\u001b[0m     \u001b[38;5;66;03m#Probes and such\u001b[39;00m\n",
      "File \u001b[1;32mc:\\users\\user\\miniconda3\\lib\\site-packages\\nengo\\base.py:34\u001b[0m, in \u001b[0;36mNetworkMember.__call__\u001b[1;34m(cls, *args, **kwargs)\u001b[0m\n\u001b[0;32m     33\u001b[0m \u001b[38;5;66;03m# Do the __init__ before adding in case __init__ errors out\u001b[39;00m\n\u001b[1;32m---> 34\u001b[0m inst\u001b[38;5;241m.\u001b[39m\u001b[38;5;21m__init__\u001b[39m(\u001b[38;5;241m*\u001b[39margs, \u001b[38;5;241m*\u001b[39m\u001b[38;5;241m*\u001b[39mkwargs)\n\u001b[0;32m     35\u001b[0m \u001b[38;5;28;01mif\u001b[39;00m add_to_container:\n",
      "File \u001b[1;32mc:\\users\\user\\miniconda3\\lib\\site-packages\\nengo\\connection.py:516\u001b[0m, in \u001b[0;36mConnection.__init__\u001b[1;34m(self, pre, post, synapse, function, transform, solver, learning_rule_type, eval_points, scale_eval_points, label, seed)\u001b[0m\n\u001b[0;32m    515\u001b[0m \u001b[38;5;28mself\u001b[39m\u001b[38;5;241m.\u001b[39mfunction_info \u001b[38;5;241m=\u001b[39m function\n\u001b[1;32m--> 516\u001b[0m \u001b[38;5;28;43mself\u001b[39;49m\u001b[38;5;241;43m.\u001b[39;49m\u001b[43mtransform\u001b[49m \u001b[38;5;241m=\u001b[39m transform  \u001b[38;5;66;03m# Must be set after function\u001b[39;00m\n\u001b[0;32m    517\u001b[0m \u001b[38;5;28mself\u001b[39m\u001b[38;5;241m.\u001b[39msolver \u001b[38;5;241m=\u001b[39m solver  \u001b[38;5;66;03m# Must be set before learning rule\u001b[39;00m\n",
      "File \u001b[1;32mc:\\users\\user\\miniconda3\\lib\\site-packages\\nengo\\base.py:108\u001b[0m, in \u001b[0;36mNengoObject.__setattr__\u001b[1;34m(self, name, val)\u001b[0m\n\u001b[0;32m    103\u001b[0m     warnings\u001b[38;5;241m.\u001b[39mwarn(\n\u001b[0;32m    104\u001b[0m         \u001b[38;5;124mf\u001b[39m\u001b[38;5;124m\"\u001b[39m\u001b[38;5;124mCreating new attribute \u001b[39m\u001b[38;5;124m'\u001b[39m\u001b[38;5;132;01m{\u001b[39;00mname\u001b[38;5;132;01m}\u001b[39;00m\u001b[38;5;124m'\u001b[39m\u001b[38;5;124m on \u001b[39m\u001b[38;5;124m'\u001b[39m\u001b[38;5;132;01m{\u001b[39;00m\u001b[38;5;28mself\u001b[39m\u001b[38;5;132;01m}\u001b[39;00m\u001b[38;5;124m'\u001b[39m\u001b[38;5;124m. \u001b[39m\u001b[38;5;124m\"\u001b[39m\n\u001b[0;32m    105\u001b[0m         \u001b[38;5;124m\"\u001b[39m\u001b[38;5;124mDid you mean to change an existing attribute?\u001b[39m\u001b[38;5;124m\"\u001b[39m,\n\u001b[0;32m    106\u001b[0m         \u001b[38;5;167;01mSyntaxWarning\u001b[39;00m,\n\u001b[0;32m    107\u001b[0m     )\n\u001b[1;32m--> 108\u001b[0m \u001b[38;5;28;43msuper\u001b[39;49m\u001b[43m(\u001b[49m\u001b[43m)\u001b[49m\u001b[38;5;241;43m.\u001b[39;49m\u001b[38;5;21;43m__setattr__\u001b[39;49m\u001b[43m(\u001b[49m\u001b[43mname\u001b[49m\u001b[43m,\u001b[49m\u001b[43m \u001b[49m\u001b[43mval\u001b[49m\u001b[43m)\u001b[49m\n",
      "File \u001b[1;32mc:\\users\\user\\miniconda3\\lib\\site-packages\\nengo\\config.py:482\u001b[0m, in \u001b[0;36mSupportDefaultsMixin.__setattr__\u001b[1;34m(self, name, val)\u001b[0m\n\u001b[0;32m    481\u001b[0m         exc_info \u001b[38;5;241m=\u001b[39m sys\u001b[38;5;241m.\u001b[39mexc_info()\n\u001b[1;32m--> 482\u001b[0m         \u001b[38;5;28;01mraise\u001b[39;00m exc_info[\u001b[38;5;241m1\u001b[39m]\u001b[38;5;241m.\u001b[39mwith_traceback(\u001b[38;5;28;01mNone\u001b[39;00m) \u001b[38;5;28;01mfrom\u001b[39;00m \u001b[38;5;21;01me\u001b[39;00m\n\u001b[0;32m    483\u001b[0m \u001b[38;5;28;01melse\u001b[39;00m:\n",
      "\u001b[1;31mValidationError\u001b[0m: Connection.transform: Transform input size (1640) not equal to 'Node' output size (30)",
      "\nThe above exception was the direct cause of the following exception:\n",
      "\u001b[1;31mValidationError\u001b[0m                           Traceback (most recent call last)",
      "    \u001b[1;31m[... skipping hidden 1 frame]\u001b[0m\n",
      "Input \u001b[1;32mIn [33]\u001b[0m, in \u001b[0;36m<cell line: 3>\u001b[1;34m()\u001b[0m\n\u001b[0;32m     23\u001b[0m \u001b[38;5;66;03m#     # And then you can apply it on the input as preprocessing step\u001b[39;00m\n\u001b[1;32m---> 24\u001b[0m     conv_conn \u001b[38;5;241m=\u001b[39m \u001b[43mnengo\u001b[49m\u001b[38;5;241;43m.\u001b[39;49m\u001b[43mConnection\u001b[49m\u001b[43m(\u001b[49m\u001b[43minput_layer\u001b[49m\u001b[43m,\u001b[49m\u001b[43m \u001b[49m\u001b[43mpre\u001b[49m\u001b[43m,\u001b[49m\u001b[43m \u001b[49m\u001b[43mtransform\u001b[49m\u001b[43m \u001b[49m\u001b[38;5;241;43m=\u001b[39;49m\u001b[43m \u001b[49m\u001b[43mtransform\u001b[49m\u001b[43m)\u001b[49m\n\u001b[0;32m     26\u001b[0m     \u001b[38;5;66;03m# Learning rule\u001b[39;00m\n\u001b[0;32m     27\u001b[0m \u001b[38;5;66;03m#     learn_conn = nengo.Connection(\u001b[39;00m\n\u001b[0;32m     28\u001b[0m \u001b[38;5;66;03m#         pre, post,\u001b[39;00m\n\u001b[1;32m   (...)\u001b[0m\n\u001b[0;32m     33\u001b[0m     \n\u001b[0;32m     34\u001b[0m     \u001b[38;5;66;03m#Probes and such\u001b[39;00m\n",
      "File \u001b[1;32mc:\\users\\user\\miniconda3\\lib\\site-packages\\nengo\\base.py:34\u001b[0m, in \u001b[0;36mNetworkMember.__call__\u001b[1;34m(cls, *args, **kwargs)\u001b[0m\n\u001b[0;32m     33\u001b[0m \u001b[38;5;66;03m# Do the __init__ before adding in case __init__ errors out\u001b[39;00m\n\u001b[1;32m---> 34\u001b[0m inst\u001b[38;5;241m.\u001b[39m\u001b[38;5;21m__init__\u001b[39m(\u001b[38;5;241m*\u001b[39margs, \u001b[38;5;241m*\u001b[39m\u001b[38;5;241m*\u001b[39mkwargs)\n\u001b[0;32m     35\u001b[0m \u001b[38;5;28;01mif\u001b[39;00m add_to_container:\n",
      "File \u001b[1;32mc:\\users\\user\\miniconda3\\lib\\site-packages\\nengo\\connection.py:516\u001b[0m, in \u001b[0;36mConnection.__init__\u001b[1;34m(self, pre, post, synapse, function, transform, solver, learning_rule_type, eval_points, scale_eval_points, label, seed)\u001b[0m\n\u001b[0;32m    515\u001b[0m \u001b[38;5;28mself\u001b[39m\u001b[38;5;241m.\u001b[39mfunction_info \u001b[38;5;241m=\u001b[39m function\n\u001b[1;32m--> 516\u001b[0m \u001b[38;5;28;43mself\u001b[39;49m\u001b[38;5;241;43m.\u001b[39;49m\u001b[43mtransform\u001b[49m \u001b[38;5;241m=\u001b[39m transform  \u001b[38;5;66;03m# Must be set after function\u001b[39;00m\n\u001b[0;32m    517\u001b[0m \u001b[38;5;28mself\u001b[39m\u001b[38;5;241m.\u001b[39msolver \u001b[38;5;241m=\u001b[39m solver  \u001b[38;5;66;03m# Must be set before learning rule\u001b[39;00m\n",
      "File \u001b[1;32mc:\\users\\user\\miniconda3\\lib\\site-packages\\nengo\\base.py:108\u001b[0m, in \u001b[0;36mNengoObject.__setattr__\u001b[1;34m(self, name, val)\u001b[0m\n\u001b[0;32m    103\u001b[0m     warnings\u001b[38;5;241m.\u001b[39mwarn(\n\u001b[0;32m    104\u001b[0m         \u001b[38;5;124mf\u001b[39m\u001b[38;5;124m\"\u001b[39m\u001b[38;5;124mCreating new attribute \u001b[39m\u001b[38;5;124m'\u001b[39m\u001b[38;5;132;01m{\u001b[39;00mname\u001b[38;5;132;01m}\u001b[39;00m\u001b[38;5;124m'\u001b[39m\u001b[38;5;124m on \u001b[39m\u001b[38;5;124m'\u001b[39m\u001b[38;5;132;01m{\u001b[39;00m\u001b[38;5;28mself\u001b[39m\u001b[38;5;132;01m}\u001b[39;00m\u001b[38;5;124m'\u001b[39m\u001b[38;5;124m. \u001b[39m\u001b[38;5;124m\"\u001b[39m\n\u001b[0;32m    105\u001b[0m         \u001b[38;5;124m\"\u001b[39m\u001b[38;5;124mDid you mean to change an existing attribute?\u001b[39m\u001b[38;5;124m\"\u001b[39m,\n\u001b[0;32m    106\u001b[0m         \u001b[38;5;167;01mSyntaxWarning\u001b[39;00m,\n\u001b[0;32m    107\u001b[0m     )\n\u001b[1;32m--> 108\u001b[0m \u001b[38;5;28;43msuper\u001b[39;49m\u001b[43m(\u001b[49m\u001b[43m)\u001b[49m\u001b[38;5;241;43m.\u001b[39;49m\u001b[38;5;21;43m__setattr__\u001b[39;49m\u001b[43m(\u001b[49m\u001b[43mname\u001b[49m\u001b[43m,\u001b[49m\u001b[43m \u001b[49m\u001b[43mval\u001b[49m\u001b[43m)\u001b[49m\n",
      "File \u001b[1;32mc:\\users\\user\\miniconda3\\lib\\site-packages\\nengo\\config.py:482\u001b[0m, in \u001b[0;36mSupportDefaultsMixin.__setattr__\u001b[1;34m(self, name, val)\u001b[0m\n\u001b[0;32m    481\u001b[0m         exc_info \u001b[38;5;241m=\u001b[39m sys\u001b[38;5;241m.\u001b[39mexc_info()\n\u001b[1;32m--> 482\u001b[0m         \u001b[38;5;28;01mraise\u001b[39;00m exc_info[\u001b[38;5;241m1\u001b[39m]\u001b[38;5;241m.\u001b[39mwith_traceback(\u001b[38;5;28;01mNone\u001b[39;00m) \u001b[38;5;28;01mfrom\u001b[39;00m \u001b[38;5;21;01me\u001b[39;00m\n\u001b[0;32m    483\u001b[0m \u001b[38;5;28;01melse\u001b[39;00m:\n",
      "\u001b[1;31mValidationError\u001b[0m: Connection.transform: Transform input size (1640) not equal to 'Node' output size (30)",
      "\nThe above exception was the direct cause of the following exception:\n",
      "\u001b[1;31mValidationError\u001b[0m                           Traceback (most recent call last)",
      "Input \u001b[1;32mIn [33]\u001b[0m, in \u001b[0;36m<cell line: 3>\u001b[1;34m()\u001b[0m\n\u001b[0;32m     13\u001b[0m     transform \u001b[38;5;241m=\u001b[39m nengo\u001b[38;5;241m.\u001b[39mConvolution(\n\u001b[0;32m     14\u001b[0m                 n_filters \u001b[38;5;241m=\u001b[39m f_maps,\n\u001b[0;32m     15\u001b[0m                 input_shape \u001b[38;5;241m=\u001b[39m [\u001b[38;5;241m40\u001b[39m,\u001b[38;5;241m41\u001b[39m],\n\u001b[1;32m   (...)\u001b[0m\n\u001b[0;32m     20\u001b[0m                 init \u001b[38;5;241m=\u001b[39m nengo\u001b[38;5;241m.\u001b[39mdists\u001b[38;5;241m.\u001b[39mGaussian(mean, std)\n\u001b[0;32m     21\u001b[0m             )\n\u001b[0;32m     23\u001b[0m \u001b[38;5;66;03m#     # And then you can apply it on the input as preprocessing step\u001b[39;00m\n\u001b[1;32m---> 24\u001b[0m     conv_conn \u001b[38;5;241m=\u001b[39m \u001b[43mnengo\u001b[49m\u001b[38;5;241;43m.\u001b[39;49m\u001b[43mConnection\u001b[49m\u001b[43m(\u001b[49m\u001b[43minput_layer\u001b[49m\u001b[43m,\u001b[49m\u001b[43m \u001b[49m\u001b[43mpre\u001b[49m\u001b[43m,\u001b[49m\u001b[43m \u001b[49m\u001b[43mtransform\u001b[49m\u001b[43m \u001b[49m\u001b[38;5;241;43m=\u001b[39;49m\u001b[43m \u001b[49m\u001b[43mtransform\u001b[49m\u001b[43m)\u001b[49m\n\u001b[0;32m     26\u001b[0m     \u001b[38;5;66;03m# Learning rule\u001b[39;00m\n\u001b[0;32m     27\u001b[0m \u001b[38;5;66;03m#     learn_conn = nengo.Connection(\u001b[39;00m\n\u001b[0;32m     28\u001b[0m \u001b[38;5;66;03m#         pre, post,\u001b[39;00m\n\u001b[1;32m   (...)\u001b[0m\n\u001b[0;32m     33\u001b[0m     \n\u001b[0;32m     34\u001b[0m     \u001b[38;5;66;03m#Probes and such\u001b[39;00m\n\u001b[0;32m     35\u001b[0m     input_probe \u001b[38;5;241m=\u001b[39m nengo\u001b[38;5;241m.\u001b[39mProbe(input_layer)\n",
      "File \u001b[1;32mc:\\users\\user\\miniconda3\\lib\\site-packages\\nengo\\base.py:34\u001b[0m, in \u001b[0;36mNetworkMember.__call__\u001b[1;34m(cls, *args, **kwargs)\u001b[0m\n\u001b[0;32m     32\u001b[0m add_to_container \u001b[38;5;241m=\u001b[39m kwargs\u001b[38;5;241m.\u001b[39mpop(\u001b[38;5;124m\"\u001b[39m\u001b[38;5;124madd_to_container\u001b[39m\u001b[38;5;124m\"\u001b[39m, \u001b[38;5;28;01mTrue\u001b[39;00m)\n\u001b[0;32m     33\u001b[0m \u001b[38;5;66;03m# Do the __init__ before adding in case __init__ errors out\u001b[39;00m\n\u001b[1;32m---> 34\u001b[0m inst\u001b[38;5;241m.\u001b[39m\u001b[38;5;21m__init__\u001b[39m(\u001b[38;5;241m*\u001b[39margs, \u001b[38;5;241m*\u001b[39m\u001b[38;5;241m*\u001b[39mkwargs)\n\u001b[0;32m     35\u001b[0m \u001b[38;5;28;01mif\u001b[39;00m add_to_container:\n\u001b[0;32m     36\u001b[0m     nengo\u001b[38;5;241m.\u001b[39mNetwork\u001b[38;5;241m.\u001b[39madd(inst)\n",
      "File \u001b[1;32mc:\\users\\user\\miniconda3\\lib\\site-packages\\nengo\\connection.py:516\u001b[0m, in \u001b[0;36mConnection.__init__\u001b[1;34m(self, pre, post, synapse, function, transform, solver, learning_rule_type, eval_points, scale_eval_points, label, seed)\u001b[0m\n\u001b[0;32m    514\u001b[0m \u001b[38;5;28mself\u001b[39m\u001b[38;5;241m.\u001b[39mscale_eval_points \u001b[38;5;241m=\u001b[39m scale_eval_points\n\u001b[0;32m    515\u001b[0m \u001b[38;5;28mself\u001b[39m\u001b[38;5;241m.\u001b[39mfunction_info \u001b[38;5;241m=\u001b[39m function\n\u001b[1;32m--> 516\u001b[0m \u001b[38;5;28;43mself\u001b[39;49m\u001b[38;5;241;43m.\u001b[39;49m\u001b[43mtransform\u001b[49m \u001b[38;5;241m=\u001b[39m transform  \u001b[38;5;66;03m# Must be set after function\u001b[39;00m\n\u001b[0;32m    517\u001b[0m \u001b[38;5;28mself\u001b[39m\u001b[38;5;241m.\u001b[39msolver \u001b[38;5;241m=\u001b[39m solver  \u001b[38;5;66;03m# Must be set before learning rule\u001b[39;00m\n\u001b[0;32m    518\u001b[0m \u001b[38;5;28mself\u001b[39m\u001b[38;5;241m.\u001b[39mlearning_rule_type \u001b[38;5;241m=\u001b[39m learning_rule_type\n",
      "File \u001b[1;32mc:\\users\\user\\miniconda3\\lib\\site-packages\\nengo\\base.py:108\u001b[0m, in \u001b[0;36mNengoObject.__setattr__\u001b[1;34m(self, name, val)\u001b[0m\n\u001b[0;32m    102\u001b[0m \u001b[38;5;28;01mif\u001b[39;00m initialized \u001b[38;5;129;01mand\u001b[39;00m \u001b[38;5;129;01mnot\u001b[39;00m \u001b[38;5;28mhasattr\u001b[39m(\u001b[38;5;28mself\u001b[39m, name):\n\u001b[0;32m    103\u001b[0m     warnings\u001b[38;5;241m.\u001b[39mwarn(\n\u001b[0;32m    104\u001b[0m         \u001b[38;5;124mf\u001b[39m\u001b[38;5;124m\"\u001b[39m\u001b[38;5;124mCreating new attribute \u001b[39m\u001b[38;5;124m'\u001b[39m\u001b[38;5;132;01m{\u001b[39;00mname\u001b[38;5;132;01m}\u001b[39;00m\u001b[38;5;124m'\u001b[39m\u001b[38;5;124m on \u001b[39m\u001b[38;5;124m'\u001b[39m\u001b[38;5;132;01m{\u001b[39;00m\u001b[38;5;28mself\u001b[39m\u001b[38;5;132;01m}\u001b[39;00m\u001b[38;5;124m'\u001b[39m\u001b[38;5;124m. \u001b[39m\u001b[38;5;124m\"\u001b[39m\n\u001b[0;32m    105\u001b[0m         \u001b[38;5;124m\"\u001b[39m\u001b[38;5;124mDid you mean to change an existing attribute?\u001b[39m\u001b[38;5;124m\"\u001b[39m,\n\u001b[0;32m    106\u001b[0m         \u001b[38;5;167;01mSyntaxWarning\u001b[39;00m,\n\u001b[0;32m    107\u001b[0m     )\n\u001b[1;32m--> 108\u001b[0m \u001b[38;5;28;43msuper\u001b[39;49m\u001b[43m(\u001b[49m\u001b[43m)\u001b[49m\u001b[38;5;241;43m.\u001b[39;49m\u001b[38;5;21;43m__setattr__\u001b[39;49m\u001b[43m(\u001b[49m\u001b[43mname\u001b[49m\u001b[43m,\u001b[49m\u001b[43m \u001b[49m\u001b[43mval\u001b[49m\u001b[43m)\u001b[49m\n",
      "File \u001b[1;32mc:\\users\\user\\miniconda3\\lib\\site-packages\\nengo\\config.py:482\u001b[0m, in \u001b[0;36mSupportDefaultsMixin.__setattr__\u001b[1;34m(self, name, val)\u001b[0m\n\u001b[0;32m    480\u001b[0m     \u001b[38;5;28;01mexcept\u001b[39;00m ValidationError \u001b[38;5;28;01mas\u001b[39;00m e:\n\u001b[0;32m    481\u001b[0m         exc_info \u001b[38;5;241m=\u001b[39m sys\u001b[38;5;241m.\u001b[39mexc_info()\n\u001b[1;32m--> 482\u001b[0m         \u001b[38;5;28;01mraise\u001b[39;00m exc_info[\u001b[38;5;241m1\u001b[39m]\u001b[38;5;241m.\u001b[39mwith_traceback(\u001b[38;5;28;01mNone\u001b[39;00m) \u001b[38;5;28;01mfrom\u001b[39;00m \u001b[38;5;21;01me\u001b[39;00m\n\u001b[0;32m    483\u001b[0m \u001b[38;5;28;01melse\u001b[39;00m:\n\u001b[0;32m    484\u001b[0m     \u001b[38;5;28msuper\u001b[39m()\u001b[38;5;241m.\u001b[39m\u001b[38;5;21m__setattr__\u001b[39m(name, val)\n",
      "\u001b[1;31mValidationError\u001b[0m: Connection.transform: Transform input size (1640) not equal to 'Node' output size (30)"
     ]
    }
   ],
   "source": [
    "model = nengo.Network()\n",
    "\n",
    "with model:\n",
    "    \n",
    "    print(input[0].size)\n",
    "    \n",
    "    input_layer = nengo.Node(nengo.processes.PresentInput(input, 0.1)) # n_neurons\n",
    "    \n",
    "    pre = nengo.Ensemble(1640, dimensions = 30)\n",
    "    \n",
    "#     post = nengo.Ensemble(f_maps, dimensions = 2000)\n",
    "    \n",
    "    transform = nengo.Convolution(\n",
    "                n_filters = f_maps,\n",
    "                input_shape = [40,41],\n",
    "                kernel_size = window_size,\n",
    "                strides = [1],\n",
    "                padding=\"same\",\n",
    "                channels_last = True,\n",
    "                init = nengo.dists.Gaussian(mean, std)\n",
    "            )\n",
    "    \n",
    "#     # And then you can apply it on the input as preprocessing step\n",
    "    conv_conn = nengo.Connection(input_layer, pre, transform = transform)\n",
    "    \n",
    "    # Learning rule\n",
    "#     learn_conn = nengo.Connection(\n",
    "#         pre, post,\n",
    "#         learning_rule_type = nengo.BCM(learning_rate=5e-10), # Change this later\n",
    "#         solver = nengo.solvers.LstsqL2(weights=True)\n",
    "#     )\n",
    "    \n",
    "    #Probes and such\n",
    "    input_probe = nengo.Probe(input_layer)\n",
    "#     pre_probe = nengo.Probe(pre, synapse=0.01)\n",
    "#     post_probe = nengo.Probe(post, synapse=0.01)\n",
    "    \n",
    "    with nengo.Simulator(model) as sim:\n",
    "        sim.run(time_in_seconds=60)"
   ]
  },
  {
   "cell_type": "code",
   "execution_count": null,
   "id": "d997a9e1",
   "metadata": {},
   "outputs": [],
   "source": [
    "49200/1640"
   ]
  },
  {
   "cell_type": "code",
   "execution_count": null,
   "id": "038f9da0",
   "metadata": {},
   "outputs": [],
   "source": []
  }
 ],
 "metadata": {
  "kernelspec": {
   "display_name": "Python 3 (ipykernel)",
   "language": "python",
   "name": "python3"
  },
  "language_info": {
   "codemirror_mode": {
    "name": "ipython",
    "version": 3
   },
   "file_extension": ".py",
   "mimetype": "text/x-python",
   "name": "python",
   "nbconvert_exporter": "python",
   "pygments_lexer": "ipython3",
   "version": "3.9.5"
  }
 },
 "nbformat": 4,
 "nbformat_minor": 5
}
