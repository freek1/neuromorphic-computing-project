{
 "cells": [
  {
   "cell_type": "code",
   "execution_count": 1,
   "id": "4f6d1fbe",
   "metadata": {},
   "outputs": [],
   "source": [
    "# https://www.nengo.ai/nengo-examples/loihi/mnist-convnet.html"
   ]
  },
  {
   "cell_type": "code",
   "execution_count": 2,
   "id": "90091659",
   "metadata": {},
   "outputs": [],
   "source": [
    "import nengo\n",
    "import numpy as np\n",
    "import matplotlib.pyplot as plt"
   ]
  },
  {
   "cell_type": "code",
   "execution_count": 3,
   "id": "6317229a",
   "metadata": {},
   "outputs": [],
   "source": [
    "train = np.load(\"spike_trains_trainNEW.npy\")"
   ]
  },
  {
   "cell_type": "code",
   "execution_count": 4,
   "id": "d34529e1",
   "metadata": {},
   "outputs": [
    {
     "data": {
      "text/plain": [
       "(2464, 40, 1681)"
      ]
     },
     "execution_count": 4,
     "metadata": {},
     "output_type": "execute_result"
    }
   ],
   "source": [
    "train.shape\n",
    "\n",
    "# this is... the second one is the 40 frequency bands, why is this 3D though \n",
    "# last number is 41*41, why??\n",
    "# first one is then the amount of samples maybe??\n",
    "\n",
    "# not sure how to resolve the different samples, since I think you have to give all of the samples in one go?"
   ]
  },
  {
   "cell_type": "code",
   "execution_count": 5,
   "id": "0033033d",
   "metadata": {},
   "outputs": [],
   "source": [
    "input = train[0:50,:,:]"
   ]
  },
  {
   "cell_type": "code",
   "execution_count": 6,
   "id": "1d1ae5be",
   "metadata": {},
   "outputs": [],
   "source": [
    "# Parameters from the paper\n",
    "n_neurons = 40\n",
    "f_maps = 50\n",
    "window_size = (6, 40)\n",
    "\n",
    "mean = 0.8\n",
    "std = 0.05\n",
    "\n",
    "threshold = 23\n",
    "thresh_config = nengo.presets.ThresholdingEnsembles(threshold) # Set the threshold"
   ]
  },
  {
   "cell_type": "code",
   "execution_count": null,
   "id": "2493e820",
   "metadata": {
    "scrolled": false
   },
   "outputs": [
    {
     "data": {
      "application/vdom.v1+json": {
       "attributes": {},
       "tagName": "div"
      },
      "text/html": [
       "\n",
       "                <script>\n",
       "                    if (Jupyter.version.split(\".\")[0] < 5) {\n",
       "                        var pb = document.getElementById(\"c18c56c8-45fe-41a5-ba0a-ae026b5f6888\");\n",
       "                        var text = document.createTextNode(\n",
       "                            \"HMTL progress bar requires Jupyter Notebook >= \" +\n",
       "                            \"5.0 or Jupyter Lab. Alternatively, you can use \" +\n",
       "                            \"TerminalProgressBar().\");\n",
       "                        pb.parentNode.insertBefore(text, pb);\n",
       "                    }\n",
       "                </script>\n",
       "                <div id=\"c18c56c8-45fe-41a5-ba0a-ae026b5f6888\" style=\"\n",
       "                    width: 100%;\n",
       "                    border: 1px solid #cfcfcf;\n",
       "                    border-radius: 4px;\n",
       "                    text-align: center;\n",
       "                    position: relative;\">\n",
       "                  <div class=\"pb-text\" style=\"\n",
       "                      position: absolute;\n",
       "                      width: 100%;\">\n",
       "                    0%\n",
       "                  </div>\n",
       "                  <div class=\"pb-fill\" style=\"\n",
       "                      background-color: #bdd2e6;\n",
       "                      width: 0%;\">\n",
       "                    <style type=\"text/css\" scoped=\"scoped\">\n",
       "                        @keyframes pb-fill-anim {\n",
       "                            0% { background-position: 0 0; }\n",
       "                            100% { background-position: 100px 0; }\n",
       "                        }\n",
       "                    </style>\n",
       "                    &nbsp;\n",
       "                  </div>\n",
       "                </div>"
      ],
      "text/plain": [
       "HtmlProgressBar cannot be displayed. Please use the TerminalProgressBar. It can be enabled with `nengo.rc['progress']['progress_bar'] = 'nengo.utils.progress.TerminalProgressBar'`."
      ]
     },
     "metadata": {},
     "output_type": "display_data"
    },
    {
     "data": {
      "application/vdom.v1+json": {
       "attributes": {
        "id": "209a5837-c572-4c16-9223-f260e37e5574",
        "style": {
         "border": "1px solid #cfcfcf",
         "borderRadius": "4px",
         "boxSizing": "border-box",
         "position": "relative",
         "textAlign": "center",
         "width": "100%"
        }
       },
       "children": [
        {
         "attributes": {
          "class": "pb-text",
          "style": {
           "position": "absolute",
           "width": "100%"
          }
         },
         "children": [
          "Build finished in 0:00:51."
         ],
         "tagName": "div"
        },
        {
         "attributes": {
          "class": "pb-fill",
          "style": {
           "animation": "none",
           "backgroundColor": "#bdd2e6",
           "backgroundImage": "none",
           "backgroundSize": "100px 100%",
           "width": "100%"
          }
         },
         "children": [
          {
           "attributes": {
            "scoped": "scoped",
            "type": "text/css"
           },
           "children": [
            "\n                        @keyframes pb-fill-anim {\n                            0% { background-position: 0 0; }\n                            100% { background-position: 100px 0; }\n                        }}"
           ],
           "tagName": "style"
          },
          " "
         ],
         "tagName": "div"
        }
       ],
       "tagName": "div"
      },
      "text/html": [
       "<script>\n",
       "              (function () {\n",
       "                  var root = document.getElementById('c18c56c8-45fe-41a5-ba0a-ae026b5f6888');\n",
       "                  var text = root.getElementsByClassName('pb-text')[0];\n",
       "                  var fill = root.getElementsByClassName('pb-fill')[0];\n",
       "\n",
       "                  text.innerHTML = 'Build finished in 0:00:51.';\n",
       "                  \n",
       "            fill.style.width = '100%';\n",
       "            fill.style.animation = 'pb-fill-anim 2s linear infinite';\n",
       "            fill.style.backgroundSize = '100px 100%';\n",
       "            fill.style.backgroundImage = 'repeating-linear-gradient(' +\n",
       "                '90deg, #bdd2e6, #edf2f8 40%, #bdd2e6 80%, #bdd2e6)';\n",
       "        \n",
       "                  \n",
       "                fill.style.animation = 'none';\n",
       "                fill.style.backgroundImage = 'none';\n",
       "            \n",
       "              })();\n",
       "        </script>"
      ]
     },
     "metadata": {},
     "output_type": "display_data"
    },
    {
     "data": {
      "application/vdom.v1+json": {
       "attributes": {},
       "tagName": "div"
      },
      "text/html": [
       "\n",
       "                <script>\n",
       "                    if (Jupyter.version.split(\".\")[0] < 5) {\n",
       "                        var pb = document.getElementById(\"00a3e8d1-d979-40c6-bca6-3d533ec54b9c\");\n",
       "                        var text = document.createTextNode(\n",
       "                            \"HMTL progress bar requires Jupyter Notebook >= \" +\n",
       "                            \"5.0 or Jupyter Lab. Alternatively, you can use \" +\n",
       "                            \"TerminalProgressBar().\");\n",
       "                        pb.parentNode.insertBefore(text, pb);\n",
       "                    }\n",
       "                </script>\n",
       "                <div id=\"00a3e8d1-d979-40c6-bca6-3d533ec54b9c\" style=\"\n",
       "                    width: 100%;\n",
       "                    border: 1px solid #cfcfcf;\n",
       "                    border-radius: 4px;\n",
       "                    text-align: center;\n",
       "                    position: relative;\">\n",
       "                  <div class=\"pb-text\" style=\"\n",
       "                      position: absolute;\n",
       "                      width: 100%;\">\n",
       "                    0%\n",
       "                  </div>\n",
       "                  <div class=\"pb-fill\" style=\"\n",
       "                      background-color: #bdd2e6;\n",
       "                      width: 0%;\">\n",
       "                    <style type=\"text/css\" scoped=\"scoped\">\n",
       "                        @keyframes pb-fill-anim {\n",
       "                            0% { background-position: 0 0; }\n",
       "                            100% { background-position: 100px 0; }\n",
       "                        }\n",
       "                    </style>\n",
       "                    &nbsp;\n",
       "                  </div>\n",
       "                </div>"
      ],
      "text/plain": [
       "HtmlProgressBar cannot be displayed. Please use the TerminalProgressBar. It can be enabled with `nengo.rc['progress']['progress_bar'] = 'nengo.utils.progress.TerminalProgressBar'`."
      ]
     },
     "metadata": {},
     "output_type": "display_data"
    },
    {
     "data": {
      "application/vdom.v1+json": {
       "attributes": {
        "id": "bcef7f73-a4a9-4f87-a82d-71bdf187a965",
        "style": {
         "border": "1px solid #cfcfcf",
         "borderRadius": "4px",
         "boxSizing": "border-box",
         "position": "relative",
         "textAlign": "center",
         "width": "100%"
        }
       },
       "children": [
        {
         "attributes": {
          "class": "pb-text",
          "style": {
           "position": "absolute",
           "width": "100%"
          }
         },
         "children": [
          "Simulating… 19%, ETA: 3:00:28"
         ],
         "tagName": "div"
        },
        {
         "attributes": {
          "class": "pb-fill",
          "style": {
           "animation": "none",
           "backgroundColor": "#bdd2e6",
           "backgroundImage": "none",
           "transition": "width 0.1s linear",
           "width": "19%"
          }
         },
         "children": [
          {
           "attributes": {
            "scoped": "scoped",
            "type": "text/css"
           },
           "children": [
            "\n                        @keyframes pb-fill-anim {\n                            0% { background-position: 0 0; }\n                            100% { background-position: 100px 0; }\n                        }}"
           ],
           "tagName": "style"
          },
          " "
         ],
         "tagName": "div"
        }
       ],
       "tagName": "div"
      },
      "text/html": [
       "<script>\n",
       "              (function () {\n",
       "                  var root = document.getElementById('00a3e8d1-d979-40c6-bca6-3d533ec54b9c');\n",
       "                  var text = root.getElementsByClassName('pb-text')[0];\n",
       "                  var fill = root.getElementsByClassName('pb-fill')[0];\n",
       "\n",
       "                  text.innerHTML = 'Simulating&hellip; 19%, ETA: 3:00:28';\n",
       "                  \n",
       "            if (18.951666666666668 > 0.) {\n",
       "                fill.style.transition = 'width 0.1s linear';\n",
       "            } else {\n",
       "                fill.style.transition = 'none';\n",
       "            }\n",
       "\n",
       "            fill.style.width = '18.951666666666668%';\n",
       "            fill.style.animation = 'none';\n",
       "            fill.style.backgroundImage = 'none'\n",
       "        \n",
       "                  \n",
       "              })();\n",
       "        </script>"
      ]
     },
     "metadata": {},
     "output_type": "display_data"
    }
   ],
   "source": [
    "model = nengo.Network()\n",
    "\n",
    "with model:\n",
    "\n",
    "    # Not entirely sure about these dimensions yet\n",
    "    input_layer = nengo.Node(nengo.processes.PresentInput(input, 0.1), size_out=input.shape[1] * input.shape[2])\n",
    "    pre = nengo.Ensemble(n_neurons, dimensions = 2000)\n",
    "    post = nengo.Ensemble(n_neurons, dimensions = 2000) # ??\n",
    "    \n",
    "    # This looks fairly solid to me though\n",
    "    transform = nengo.Convolution(\n",
    "                n_filters = f_maps,\n",
    "                input_shape = (input.shape[1],input.shape[2]),\n",
    "                kernel_size = [6*40],\n",
    "                strides = [1*1],\n",
    "                padding=\"same\",\n",
    "                channels_last = True,\n",
    "                init = nengo.dists.Gaussian(mean, std)\n",
    "            )\n",
    "    \n",
    "    # And then you can apply it on the input as preprocessing step\n",
    "    conv_conn = nengo.Connection(input_layer, pre, transform = transform)\n",
    "    \n",
    "    # Learning rule\n",
    "    learn_conn = nengo.Connection(\n",
    "        pre, post,\n",
    "        learning_rule_type = nengo.BCM(learning_rate=5e-10), # Change this later\n",
    "        solver = nengo.solvers.LstsqL2(weights=True)\n",
    "    )\n",
    "    \n",
    "    #Probes and such\n",
    "    input_probe = nengo.Probe(input_layer)\n",
    "    pre_probe = nengo.Probe(pre, synapse=0.01)\n",
    "    post_probe = nengo.Probe(post, synapse=0.01)\n",
    "    \n",
    "    with nengo.Simulator(model) as sim:\n",
    "        sim.run(time_in_seconds=60)"
   ]
  },
  {
   "cell_type": "code",
   "execution_count": null,
   "id": "d997a9e1",
   "metadata": {},
   "outputs": [],
   "source": [
    "# Plotting\n",
    "def plots(start_ix=None, end_ix=None):\n",
    "    sl = slice(start_ix, end_ix)\n",
    "    t = sim.trange()[sl]\n",
    "    plt.figure(figsize=(12, 12))\n",
    "\n",
    "    plt.subplot(3, 1, 1)\n",
    "    plt.plot(t, sim.data[input_probe].T[sl], c=\"k\", label=\"Input\")\n",
    "    plt.ylabel(\"Input\")\n",
    "    plt.legend(loc=\"best\")\n",
    "\n",
    "    plt.subplot(3, 1, 2)\n",
    "    plt.plot(t, sim.data[pre_probe].T[sl], c=\"b\", label=\"Pre\")\n",
    "    plt.ylabel(\"Pre\")\n",
    "    plt.legend((\"Pre[0]\", \"Pre[1]\"), loc=\"best\")\n",
    "    plt.legend(loc=\"best\")\n",
    "\n",
    "    plt.subplot(3, 1, 3)\n",
    "    plt.plot(t, sim.data[post_probe][sl], c=\"b\", label=\"Post\")\n",
    "    plt.ylabel(\"Post\")\n",
    "    plt.legend(loc=\"best\")\n",
    "    \n",
    "plots()"
   ]
  }
 ],
 "metadata": {
  "kernelspec": {
   "display_name": "Python 3 (ipykernel)",
   "language": "python",
   "name": "python3"
  },
  "language_info": {
   "codemirror_mode": {
    "name": "ipython",
    "version": 3
   },
   "file_extension": ".py",
   "mimetype": "text/x-python",
   "name": "python",
   "nbconvert_exporter": "python",
   "pygments_lexer": "ipython3",
   "version": "3.7.3"
  }
 },
 "nbformat": 4,
 "nbformat_minor": 5
}
