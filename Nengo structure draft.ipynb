{
 "cells": [
  {
   "cell_type": "markdown",
   "id": "a8ef0f4a",
   "metadata": {},
   "source": [
    "# Nengo structure draft"
   ]
  },
  {
   "cell_type": "markdown",
   "id": "19d8ca36",
   "metadata": {},
   "source": [
    "So upon further investigation the nengo documentation is actually... not that nice. Trying my best though.\n",
    "\n",
    "https://www.nengo.ai/nengo/v3.2.0/frontend-api.html?highlight=nengo%20convolution#nengo.Convolution"
   ]
  },
  {
   "cell_type": "code",
   "execution_count": 1,
   "id": "a472d3ab",
   "metadata": {},
   "outputs": [],
   "source": [
    "import nengo\n",
    "import numpy as np\n",
    "import matplotlib.pyplot as plt"
   ]
  },
  {
   "cell_type": "code",
   "execution_count": 3,
   "id": "c043b06d",
   "metadata": {},
   "outputs": [],
   "source": [
    "# Parameters from the paper\n",
    "n_neurons = 40\n",
    "f_maps = 50\n",
    "window_size = (6, 40)\n",
    "\n",
    "mean = 0.8\n",
    "std = 0.05\n",
    "\n",
    "threshold = 23\n",
    "thresh_config = nengo.presets.ThresholdingEnsembles(threshold) # Set the threshold"
   ]
  },
  {
   "cell_type": "code",
   "execution_count": 4,
   "id": "81a5cbdf",
   "metadata": {},
   "outputs": [],
   "source": [
    "model = nengo.Network()\n",
    "\n",
    "with model:\n",
    "\n",
    "    # Not entirely sure about these dimensions yet\n",
    "    input_layer = nengo.Node(input, size_out=input.Shape[0] * input.Shape[1])\n",
    "    pre = nengo.Ensemble(n_neurons, dimensions = input.Shape[0] * input.Shape[1])\n",
    "    post = nengo.Ensemble(n_neurons, dimensions = input.Shape[0] * input.Shape[1]) # ??\n",
    "    \n",
    "    # This looks fairly solid to me though\n",
    "    transform = nengo.Convolution(\n",
    "                n_filters = f_maps,\n",
    "                input_shape = (input.Shape[0], input.Shape[1]),\n",
    "                kernel_size = window_size,\n",
    "                strides = (1,1), # I think it's 2D convolution based on the other parameters at least\n",
    "                padding=\"same\",\n",
    "                channels_last = True,\n",
    "                init = nengo.dists.Gaussian(mean, std)\n",
    "            )\n",
    "    \n",
    "    # And then you can apply it on the input as preprocessing step\n",
    "    conv_conn = nengo.Connection(input_layer, pre, transform = transform)\n",
    "    \n",
    "    # Learning rule\n",
    "    learn_conn = nengo.Connection(\n",
    "        pre, post,\n",
    "        learning_rule_type = nengo.BCM(learning_rate=5e-10), # Change this later\n",
    "        solver = nengo.solvers.LstsqL2(weights=True)\n",
    "    )\n",
    "    \n",
    "    \n",
    "    #Probes and such\n",
    "    input_probe = nengo.Probe(input_layer)\n",
    "    pre_probe = nengo.Probe(pre, synapse=0.01)\n",
    "    post_probe = nengo.Probe(post, synapse=0.01)"
   ]
  },
  {
   "cell_type": "markdown",
   "id": "7f41d163",
   "metadata": {},
   "source": [
    "From the BCM docs: This seems consistent with the idea that it potentiates active synapses, and depresses non-active synapses.\n",
    "This seems similar at least to STDP? We can use it to check how well it works.\n",
    "\n",
    "http://compneuro.uwaterloo.ca/publications/bekolay2011.html\n",
    "\n",
    "http://compneuro.uwaterloo.ca/publications/bekolay2013.html"
   ]
  },
  {
   "cell_type": "markdown",
   "id": "036ace9c",
   "metadata": {},
   "source": [
    "What I expect the final results should sort of look like (this example is with MNIST):\n",
    "\n",
    "![MNIST results](https://www.nengo.ai/nengo-examples/_images/loihi_mnist-convnet_18_1.png)"
   ]
  },
  {
   "cell_type": "code",
   "execution_count": null,
   "id": "8f3cb2c0",
   "metadata": {},
   "outputs": [],
   "source": []
  }
 ],
 "metadata": {
  "kernelspec": {
   "display_name": "Python 3 (ipykernel)",
   "language": "python",
   "name": "python3"
  },
  "language_info": {
   "codemirror_mode": {
    "name": "ipython",
    "version": 3
   },
   "file_extension": ".py",
   "mimetype": "text/x-python",
   "name": "python",
   "nbconvert_exporter": "python",
   "pygments_lexer": "ipython3",
   "version": "3.9.5"
  }
 },
 "nbformat": 4,
 "nbformat_minor": 5
}
