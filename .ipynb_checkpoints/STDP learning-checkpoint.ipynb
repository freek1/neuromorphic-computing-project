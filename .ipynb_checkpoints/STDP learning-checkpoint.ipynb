{
 "cells": [
  {
   "cell_type": "code",
   "execution_count": 1,
   "id": "c689cd92",
   "metadata": {},
   "outputs": [
    {
     "name": "stdout",
     "output_type": "stream",
     "text": [
      "Requirement already satisfied: nengo in c:\\users\\user\\miniconda3\\lib\\site-packages (3.2.0)\n",
      "Requirement already satisfied: numpy>=1.19 in c:\\users\\user\\miniconda3\\lib\\site-packages (from nengo) (1.19.5)\n"
     ]
    }
   ],
   "source": [
    "!pip install nengo"
   ]
  },
  {
   "cell_type": "code",
   "execution_count": 3,
   "id": "528cb044",
   "metadata": {},
   "outputs": [
    {
     "name": "stdout",
     "output_type": "stream",
     "text": [
      "Collecting matplotlib\n",
      "  Downloading matplotlib-3.6.2-cp39-cp39-win_amd64.whl (7.2 MB)\n",
      "Collecting fonttools>=4.22.0\n",
      "  Downloading fonttools-4.38.0-py3-none-any.whl (965 kB)\n",
      "Collecting kiwisolver>=1.0.1\n",
      "  Downloading kiwisolver-1.4.4-cp39-cp39-win_amd64.whl (55 kB)\n",
      "Collecting pillow>=6.2.0\n",
      "  Downloading Pillow-9.3.0-cp39-cp39-win_amd64.whl (2.5 MB)\n",
      "Requirement already satisfied: python-dateutil>=2.7 in c:\\users\\user\\miniconda3\\lib\\site-packages (from matplotlib) (2.8.2)\n",
      "Requirement already satisfied: packaging>=20.0 in c:\\users\\user\\miniconda3\\lib\\site-packages (from matplotlib) (21.3)\n",
      "Collecting cycler>=0.10\n",
      "  Using cached cycler-0.11.0-py3-none-any.whl (6.4 kB)\n",
      "Collecting contourpy>=1.0.1\n",
      "  Downloading contourpy-1.0.6-cp39-cp39-win_amd64.whl (161 kB)\n",
      "Requirement already satisfied: numpy>=1.19 in c:\\users\\user\\miniconda3\\lib\\site-packages (from matplotlib) (1.19.5)\n",
      "Requirement already satisfied: pyparsing>=2.2.1 in c:\\users\\user\\miniconda3\\lib\\site-packages (from matplotlib) (3.0.9)\n",
      "Requirement already satisfied: six>=1.5 in c:\\users\\user\\miniconda3\\lib\\site-packages (from python-dateutil>=2.7->matplotlib) (1.15.0)\n",
      "Installing collected packages: pillow, kiwisolver, fonttools, cycler, contourpy, matplotlib\n",
      "Successfully installed contourpy-1.0.6 cycler-0.11.0 fonttools-4.38.0 kiwisolver-1.4.4 matplotlib-3.6.2 pillow-9.3.0\n"
     ]
    }
   ],
   "source": [
    "!pip install matplotlib"
   ]
  },
  {
   "cell_type": "code",
   "execution_count": 4,
   "id": "0a775c9d",
   "metadata": {},
   "outputs": [],
   "source": [
    "import nengo\n",
    "import matplotlib.pyplot as plt"
   ]
  },
  {
   "cell_type": "code",
   "execution_count": null,
   "id": "0126792b",
   "metadata": {
    "scrolled": false
   },
   "outputs": [
    {
     "name": "stderr",
     "output_type": "stream",
     "text": [
      "c:\\users\\user\\miniconda3\\lib\\site-packages\\nengo\\builder\\optimizer.py:649: UserWarning: Skipping some optimization steps because SciPy is not installed. Installing SciPy may result in faster simulations.\n",
      "  warnings.warn(\n"
     ]
    },
    {
     "data": {
      "application/vdom.v1+json": {
       "attributes": {},
       "tagName": "div"
      },
      "text/html": [
       "\n",
       "                <script>\n",
       "                    if (Jupyter.version.split(\".\")[0] < 5) {\n",
       "                        var pb = document.getElementById(\"6729953f-81dc-457d-9880-9bd8f1387a80\");\n",
       "                        var text = document.createTextNode(\n",
       "                            \"HMTL progress bar requires Jupyter Notebook >= \" +\n",
       "                            \"5.0 or Jupyter Lab. Alternatively, you can use \" +\n",
       "                            \"TerminalProgressBar().\");\n",
       "                        pb.parentNode.insertBefore(text, pb);\n",
       "                    }\n",
       "                </script>\n",
       "                <div id=\"6729953f-81dc-457d-9880-9bd8f1387a80\" style=\"\n",
       "                    width: 100%;\n",
       "                    border: 1px solid #cfcfcf;\n",
       "                    border-radius: 4px;\n",
       "                    text-align: center;\n",
       "                    position: relative;\">\n",
       "                  <div class=\"pb-text\" style=\"\n",
       "                      position: absolute;\n",
       "                      width: 100%;\">\n",
       "                    0%\n",
       "                  </div>\n",
       "                  <div class=\"pb-fill\" style=\"\n",
       "                      background-color: #bdd2e6;\n",
       "                      width: 0%;\">\n",
       "                    <style type=\"text/css\" scoped=\"scoped\">\n",
       "                        @keyframes pb-fill-anim {\n",
       "                            0% { background-position: 0 0; }\n",
       "                            100% { background-position: 100px 0; }\n",
       "                        }\n",
       "                    </style>\n",
       "                    &nbsp;\n",
       "                  </div>\n",
       "                </div>"
      ],
      "text/plain": [
       "HtmlProgressBar cannot be displayed. Please use the TerminalProgressBar. It can be enabled with `nengo.rc['progress']['progress_bar'] = 'nengo.utils.progress.TerminalProgressBar'`."
      ]
     },
     "metadata": {},
     "output_type": "display_data"
    },
    {
     "data": {
      "application/vdom.v1+json": {
       "attributes": {
        "id": "cfad4ef7-ed5f-46d6-8401-98abd59a7a6e",
        "style": {
         "border": "1px solid #cfcfcf",
         "borderRadius": "4px",
         "boxSizing": "border-box",
         "position": "relative",
         "textAlign": "center",
         "width": "100%"
        }
       },
       "children": [
        {
         "attributes": {
          "class": "pb-text",
          "style": {
           "position": "absolute",
           "width": "100%"
          }
         },
         "children": [
          "Build finished in 0:00:01."
         ],
         "tagName": "div"
        },
        {
         "attributes": {
          "class": "pb-fill",
          "style": {
           "animation": "none",
           "backgroundColor": "#bdd2e6",
           "backgroundImage": "none",
           "backgroundSize": "100px 100%",
           "width": "100%"
          }
         },
         "children": [
          {
           "attributes": {
            "scoped": "scoped",
            "type": "text/css"
           },
           "children": [
            "\n                        @keyframes pb-fill-anim {\n                            0% { background-position: 0 0; }\n                            100% { background-position: 100px 0; }\n                        }}"
           ],
           "tagName": "style"
          },
          " "
         ],
         "tagName": "div"
        }
       ],
       "tagName": "div"
      },
      "text/html": [
       "<script>\n",
       "              (function () {\n",
       "                  var root = document.getElementById('6729953f-81dc-457d-9880-9bd8f1387a80');\n",
       "                  var text = root.getElementsByClassName('pb-text')[0];\n",
       "                  var fill = root.getElementsByClassName('pb-fill')[0];\n",
       "\n",
       "                  text.innerHTML = 'Build finished in 0:00:01.';\n",
       "                  \n",
       "            fill.style.width = '100%';\n",
       "            fill.style.animation = 'pb-fill-anim 2s linear infinite';\n",
       "            fill.style.backgroundSize = '100px 100%';\n",
       "            fill.style.backgroundImage = 'repeating-linear-gradient(' +\n",
       "                '90deg, #bdd2e6, #edf2f8 40%, #bdd2e6 80%, #bdd2e6)';\n",
       "        \n",
       "                  \n",
       "                fill.style.animation = 'none';\n",
       "                fill.style.backgroundImage = 'none';\n",
       "            \n",
       "              })();\n",
       "        </script>"
      ]
     },
     "metadata": {},
     "output_type": "display_data"
    },
    {
     "data": {
      "application/vdom.v1+json": {
       "attributes": {},
       "tagName": "div"
      },
      "text/html": [
       "\n",
       "                <script>\n",
       "                    if (Jupyter.version.split(\".\")[0] < 5) {\n",
       "                        var pb = document.getElementById(\"4616c9f6-abda-4be6-a18b-997e977580d0\");\n",
       "                        var text = document.createTextNode(\n",
       "                            \"HMTL progress bar requires Jupyter Notebook >= \" +\n",
       "                            \"5.0 or Jupyter Lab. Alternatively, you can use \" +\n",
       "                            \"TerminalProgressBar().\");\n",
       "                        pb.parentNode.insertBefore(text, pb);\n",
       "                    }\n",
       "                </script>\n",
       "                <div id=\"4616c9f6-abda-4be6-a18b-997e977580d0\" style=\"\n",
       "                    width: 100%;\n",
       "                    border: 1px solid #cfcfcf;\n",
       "                    border-radius: 4px;\n",
       "                    text-align: center;\n",
       "                    position: relative;\">\n",
       "                  <div class=\"pb-text\" style=\"\n",
       "                      position: absolute;\n",
       "                      width: 100%;\">\n",
       "                    0%\n",
       "                  </div>\n",
       "                  <div class=\"pb-fill\" style=\"\n",
       "                      background-color: #bdd2e6;\n",
       "                      width: 0%;\">\n",
       "                    <style type=\"text/css\" scoped=\"scoped\">\n",
       "                        @keyframes pb-fill-anim {\n",
       "                            0% { background-position: 0 0; }\n",
       "                            100% { background-position: 100px 0; }\n",
       "                        }\n",
       "                    </style>\n",
       "                    &nbsp;\n",
       "                  </div>\n",
       "                </div>"
      ],
      "text/plain": [
       "HtmlProgressBar cannot be displayed. Please use the TerminalProgressBar. It can be enabled with `nengo.rc['progress']['progress_bar'] = 'nengo.utils.progress.TerminalProgressBar'`."
      ]
     },
     "metadata": {},
     "output_type": "display_data"
    },
    {
     "data": {
      "application/vdom.v1+json": {
       "attributes": {
        "id": "1c028d96-552e-430e-bec3-90b82e5bdbae",
        "style": {
         "border": "1px solid #cfcfcf",
         "borderRadius": "4px",
         "boxSizing": "border-box",
         "position": "relative",
         "textAlign": "center",
         "width": "100%"
        }
       },
       "children": [
        {
         "attributes": {
          "class": "pb-text",
          "style": {
           "position": "absolute",
           "width": "100%"
          }
         },
         "children": [
          "Simulating… 63%, ETA: 0:00:29"
         ],
         "tagName": "div"
        },
        {
         "attributes": {
          "class": "pb-fill",
          "style": {
           "animation": "none",
           "backgroundColor": "#bdd2e6",
           "backgroundImage": "none",
           "transition": "width 0.1s linear",
           "width": "63%"
          }
         },
         "children": [
          {
           "attributes": {
            "scoped": "scoped",
            "type": "text/css"
           },
           "children": [
            "\n                        @keyframes pb-fill-anim {\n                            0% { background-position: 0 0; }\n                            100% { background-position: 100px 0; }\n                        }}"
           ],
           "tagName": "style"
          },
          " "
         ],
         "tagName": "div"
        }
       ],
       "tagName": "div"
      },
      "text/html": [
       "<script>\n",
       "              (function () {\n",
       "                  var root = document.getElementById('4616c9f6-abda-4be6-a18b-997e977580d0');\n",
       "                  var text = root.getElementsByClassName('pb-text')[0];\n",
       "                  var fill = root.getElementsByClassName('pb-fill')[0];\n",
       "\n",
       "                  text.innerHTML = 'Simulating&hellip; 63%, ETA: 0:00:29';\n",
       "                  \n",
       "            if (63.16833333333334 > 0.) {\n",
       "                fill.style.transition = 'width 0.1s linear';\n",
       "            } else {\n",
       "                fill.style.transition = 'none';\n",
       "            }\n",
       "\n",
       "            fill.style.width = '63.16833333333334%';\n",
       "            fill.style.animation = 'none';\n",
       "            fill.style.backgroundImage = 'none'\n",
       "        \n",
       "                  \n",
       "              })();\n",
       "        </script>"
      ]
     },
     "metadata": {},
     "output_type": "display_data"
    }
   ],
   "source": [
    "# Some basic network, from assignment 4, to check if the learning rule works\n",
    "\n",
    "model = nengo.Network()\n",
    "\n",
    "with model:\n",
    "    n_neurons = 100\n",
    "\n",
    "    model_input = nengo.Node(nengo.processes.WhiteSignal(100, high=5), size_out=2)\n",
    "\n",
    "    # Ensembles\n",
    "    pre = nengo.Ensemble(n_neurons, dimensions=2)\n",
    "    sum_ref = nengo.Ensemble(n_neurons, dimensions=1)\n",
    "    post = nengo.Ensemble(n_neurons, dimensions=1)\n",
    "    error = nengo.Ensemble(n_neurons, dimensions=1)\n",
    "\n",
    "    # Connections\n",
    "    nengo.Connection(model_input, pre)\n",
    "    nengo.Connection(model_input, sum_ref, function=lambda x:x[0]+x[1] )\n",
    "    nengo.Connection(post, error)\n",
    "    nengo.Connection(sum_ref, error, transform=-1)\n",
    "\n",
    "    # Learning rule\n",
    "    conn = nengo.Connection(\n",
    "        pre, post,\n",
    "        function=lambda x:x[0]+x[1],\n",
    "        learning_rule_type = nengo.Oja(learning_rate=6e-12),\n",
    "        solver = nengo.solvers.LstsqL2(weights=True)\n",
    "    )\n",
    "\n",
    "    # Probes\n",
    "    input_probe = nengo.Probe(model_input)\n",
    "    pre_probe = nengo.Probe(pre, synapse=0.01)\n",
    "    post_probe = nengo.Probe(post, synapse=0.01)\n",
    "    sum_ref_probe = nengo.Probe(sum_ref, synapse=0.01)\n",
    "    error_probe = nengo.Probe(error, synapse=0.03)\n",
    "    \n",
    "    with nengo.Simulator(model) as sim:\n",
    "        sim.run(time_in_seconds=60)\n",
    "        \n",
    "# Plotting\n",
    "def plots(start_ix=None, end_ix=None):\n",
    "    sl = slice(start_ix, end_ix)\n",
    "    t = sim.trange()[sl]\n",
    "    plt.figure(figsize=(12, 12))\n",
    "\n",
    "    plt.subplot(4, 1, 1)\n",
    "    plt.plot(t, sim.data[input_probe].T[0][sl], c=\"k\", label=\"Input 1\")\n",
    "    plt.plot(t, sim.data[input_probe].T[1][sl], c=\"m\", label=\"Input 2\")\n",
    "    plt.ylabel(\"Input\")\n",
    "    plt.legend(loc=\"best\")\n",
    "\n",
    "    plt.subplot(4, 1, 2)\n",
    "    plt.plot(t, sim.data[pre_probe].T[0][sl], c=\"b\", label=\"Pre[0]\")\n",
    "    plt.plot(t, sim.data[pre_probe].T[1][sl], c=\"c\", label=\"Pre[1]\")\n",
    "    plt.ylabel(\"Pre\")\n",
    "    plt.legend((\"Pre[0]\", \"Pre[1]\"), loc=\"best\")\n",
    "    plt.legend(loc=\"best\")\n",
    "\n",
    "    plt.subplot(4, 1, 3)\n",
    "    plt.plot(t, sim.data[post_probe][sl], c=\"b\", label=\"Post\")\n",
    "    plt.plot(t, sim.data[sum_ref_probe][sl], c=\"r\", alpha=0.75, label=\"Reference of sum\")\n",
    "    plt.ylabel(\"Post & reference\")\n",
    "    plt.legend(loc=\"best\")\n",
    "\n",
    "    plt.subplot(4, 1, 4)\n",
    "    plt.plot(t, sim.data[error_probe][sl], c=\"y\", label=\"Error\")\n",
    "    plt.ylim(-1, 1)\n",
    "    plt.ylabel(\"Error\")\n",
    "    plt.show()\n",
    "    \n",
    "plots()\n",
    "plots(start_ix=56000, end_ix=60000)"
   ]
  },
  {
   "cell_type": "code",
   "execution_count": null,
   "id": "95e05ba8",
   "metadata": {},
   "outputs": [],
   "source": [
    "# STDP implementation\n",
    "\n",
    "# STDP(learning_rate=learning_args[\"learning_rate\"],alf_p=learning_args[\"alf_p\"],alf_n=learning_args[\"alf_n\"],beta_p=learning_args[\"beta_p\"],beta_n=learning_args[\"beta_n\"]))\n",
    "\n",
    "# Weight_ij\n",
    "# Time i\n",
    "# Time j\n",
    "# Learning rate a+\n",
    "# Learning rate a-\n",
    "\n",
    "\"\"\"Nengo implementations of Simplified STDP rules.\"\"\"\n",
    "\n",
    "import nengo\n",
    "from nengo.builder import Builder\n",
    "from nengo.builder.learning_rules import get_pre_ens, get_post_ens\n",
    "from nengo.builder.operator import Operator\n",
    "from nengo.builder.signal import Signal\n",
    "from nengo.params import BoolParam, NumberParam, StringParam, Default\n",
    "import numpy as np\n",
    "import math \n",
    "\n",
    "class STDP(nengo.learning_rules.LearningRuleType):\n",
    "    \"\"\"Simplified Spike-timing dependent plasticity rule.\"\"\"\n",
    "\n",
    "    # Used by other Nengo objects\n",
    "    modifies = 'weights'\n",
    "    probeable = ('pre_trace', 'post_trace',\"delta\")\n",
    "\n",
    "    # Parameters\n",
    "\n",
    "    pre_tau = NumberParam('pre_tau', low=0, low_open=True)\n",
    "    post_tau = NumberParam('post_tau', low=0, low_open=True)\n",
    "    alf_p = NumberParam('alf_p', low=0, low_open=True)\n",
    "    alf_n = NumberParam('alf_n', low=0, low_open=True)\n",
    "    beta_p = NumberParam('beta_p', low=0, low_open=True)\n",
    "    beta_n = NumberParam('beta_n', low=0, low_open=True)\n",
    "    max_weight = NumberParam('max_weight')\n",
    "    min_weight = NumberParam('min_weight')\n",
    "    learning_rate = NumberParam(\"learning_rate\", low=0, readonly=True, default=15e-3)\n",
    "    def __init__(\n",
    "            self,\n",
    "            alf_p=0.05,\n",
    "            alf_n=0.0001,\n",
    "            beta_p=1.5,\n",
    "            beta_n=0.5,\n",
    "            max_weight=1.0,\n",
    "            min_weight=0.0001,\n",
    "            pre_tau=0.0168,\n",
    "            post_tau=0.0337,\n",
    "            learning_rate=Default,\n",
    "    ):\n",
    "        self.pre_tau = pre_tau\n",
    "        self.post_tau = post_tau\n",
    "        self.alf_p = alf_p\n",
    "        self.alf_n = alf_n\n",
    "        self.beta_p = beta_p\n",
    "        self.beta_n = beta_n\n",
    "        self.max_weight = max_weight\n",
    "        self.min_weight = min_weight\n",
    "        super().__init__(learning_rate)\n",
    "\n",
    "@Builder.register(STDP)\n",
    "def build_stdp(model, stdp, rule):\n",
    "    conn = rule.connection\n",
    "    pre_activities = model.sig[get_pre_ens(conn).neurons]['out']\n",
    "    post_activities = model.sig[get_post_ens(conn).neurons]['out']\n",
    "    pre_trace = Signal(np.zeros(pre_activities.size), name=\"pre_trace\")\n",
    "    post_trace = Signal(np.zeros(post_activities.size), name=\"post_trace\")\n",
    "\n",
    "\n",
    "    model.add_op(SimSTDP(\n",
    "        pre_activities,\n",
    "        post_activities,\n",
    "        pre_trace,\n",
    "        post_trace,\n",
    "        model.sig[conn]['weights'],\n",
    "        model.sig[rule]['delta'],\n",
    "        pre_tau=stdp.pre_tau,\n",
    "        post_tau=stdp.post_tau,\n",
    "        alf_p=stdp.alf_p,\n",
    "        alf_n=stdp.alf_n,\n",
    "        beta_p=stdp.beta_p,\n",
    "        beta_n=stdp.beta_n,\n",
    "        max_weight=stdp.max_weight,\n",
    "        min_weight=stdp.min_weight,\n",
    "        learning_rate=stdp.learning_rate,\n",
    "    ))\n",
    "\n",
    "    # expose these for probes\n",
    "    model.sig[rule]['pre_trace'] = pre_trace\n",
    "    model.sig[rule]['post_trace'] = post_trace\n",
    "    \n",
    "    model.params[rule] = None  # no build-time info to return\n",
    "\n",
    "\n",
    "class SimSTDP(Operator):\n",
    "    def __init__(\n",
    "            self,\n",
    "            pre_activities,\n",
    "            post_activities,\n",
    "            pre_trace,\n",
    "            post_trace,\n",
    "            weights,\n",
    "            delta,\n",
    "            alf_p,\n",
    "            alf_n,\n",
    "            beta_p,\n",
    "            beta_n,\n",
    "            max_weight,\n",
    "            min_weight,\n",
    "            pre_tau,\n",
    "            post_tau,\n",
    "            learning_rate,\n",
    "            tag=None\n",
    "    ):\n",
    "        super(SimSTDP,self).__init__(tag=tag)\n",
    "        self.learning_rate = learning_rate\n",
    "        self.alf_p = alf_p\n",
    "        self.alf_n = alf_n\n",
    "        self.beta_p = beta_p\n",
    "        self.beta_n = beta_n\n",
    "        self.pre_tau = pre_tau\n",
    "        self.post_tau = post_tau\n",
    "        self.max_weight = max_weight\n",
    "        self.min_weight = min_weight\n",
    "        self.sets = []\n",
    "        self.incs = []\n",
    "        self.reads = [pre_activities, post_activities, weights]\n",
    "        self.updates = [delta, pre_trace, post_trace]\n",
    "        \n",
    "    @property\n",
    "    def delta(self):\n",
    "        return self.updates[0]\n",
    "\n",
    "    @property\n",
    "    def post_activities(self):\n",
    "        return self.reads[1]\n",
    "\n",
    "    @property\n",
    "    def post_trace(self):\n",
    "        return self.updates[2]\n",
    "\n",
    "    @property\n",
    "    def pre_activities(self):\n",
    "        return self.reads[0]\n",
    "\n",
    "    @property\n",
    "    def pre_trace(self):\n",
    "        return self.updates[1]\n",
    "\n",
    "    @property\n",
    "    def weights(self):\n",
    "        return self.reads[2]\n",
    "\n",
    "    def make_step(self, signals, dt, rng):\n",
    "\n",
    "        pre_activities = signals[self.pre_activities]\n",
    "        post_activities = signals[self.post_activities]\n",
    "        pre_trace = signals[self.pre_trace]\n",
    "        post_trace = signals[self.post_trace]\n",
    "        weights = signals[self.weights]\n",
    "        delta = signals[self.delta]\n",
    "\n",
    "        alphaP = self.learning_rate * (dt + self.alf_p) \n",
    "        alphaN = self.learning_rate * (dt + self.alf_n) \n",
    "\n",
    "        #alphaP = self.alf_p \n",
    "        #alphaN = self.alf_n\n",
    "        def step_stdp():\n",
    "\n",
    "            pre_trace[...] += ((dt / self.pre_tau) * (-pre_trace + pre_activities))\n",
    "\n",
    "            post_trace[...] += ((dt / self.post_tau) * (-post_trace + post_activities))\n",
    "\n",
    "            delta[...] = (( alphaP  *  np.exp( - self.beta_p * (( weights - self.min_weight )/( self.max_weight - self.min_weight )) )) * pre_trace[np.newaxis, :] - ( alphaN  * np.exp( - self.beta_n * (( self.max_weight - weights )/( self.max_weight - self.min_weight )) )) * post_trace[:, np.newaxis]) * post_activities[:, np.newaxis] * dt\n",
    "\n",
    "            np.putmask(delta,((weights + delta) < self.min_weight),self.min_weight - weights)\n",
    "            np.putmask(delta,((weights + delta) > self.max_weight),self.max_weight - weights)\n",
    "\n",
    "        return step_stdp"
   ]
  },
  {
   "cell_type": "code",
   "execution_count": null,
   "id": "653dd900",
   "metadata": {
    "scrolled": false
   },
   "outputs": [],
   "source": [
    "# Some basic network, from assignment 4, to check if the learning rule works\n",
    "\n",
    "model = nengo.Network()\n",
    "\n",
    "with model:\n",
    "    n_neurons = 100\n",
    "\n",
    "    model_input = nengo.Node(nengo.processes.WhiteSignal(100, high=5), size_out=2)\n",
    "\n",
    "    # Ensembles\n",
    "    pre = nengo.Ensemble(n_neurons, dimensions=2)\n",
    "    sum_ref = nengo.Ensemble(n_neurons, dimensions=1)\n",
    "    post = nengo.Ensemble(n_neurons, dimensions=1)\n",
    "    error = nengo.Ensemble(n_neurons, dimensions=1)\n",
    "\n",
    "    # Connections\n",
    "    nengo.Connection(model_input, pre)\n",
    "    nengo.Connection(model_input, sum_ref, function=lambda x:x[0]+x[1] )\n",
    "    nengo.Connection(post, error)\n",
    "    nengo.Connection(sum_ref, error, transform=-1)\n",
    "\n",
    "    # Learning rule\n",
    "    conn = nengo.Connection(\n",
    "        pre, post,\n",
    "        function=lambda x:x[0]+x[1],\n",
    "        learning_rule_type = STDP(learning_rate=6e-12),\n",
    "        solver = nengo.solvers.LstsqL2(weights=True)\n",
    "    )\n",
    "\n",
    "    # Probes\n",
    "    input_probe = nengo.Probe(model_input)\n",
    "    pre_probe = nengo.Probe(pre, synapse=0.01)\n",
    "    post_probe = nengo.Probe(post, synapse=0.01)\n",
    "    sum_ref_probe = nengo.Probe(sum_ref, synapse=0.01)\n",
    "    error_probe = nengo.Probe(error, synapse=0.03)\n",
    "    \n",
    "    with nengo.Simulator(model) as sim:\n",
    "        sim.run(time_in_seconds=60)\n",
    "        \n",
    "# Plotting\n",
    "def plots(start_ix=None, end_ix=None):\n",
    "    sl = slice(start_ix, end_ix)\n",
    "    t = sim.trange()[sl]\n",
    "    plt.figure(figsize=(12, 12))\n",
    "\n",
    "    plt.subplot(4, 1, 1)\n",
    "    plt.plot(t, sim.data[input_probe].T[0][sl], c=\"k\", label=\"Input 1\")\n",
    "    plt.plot(t, sim.data[input_probe].T[1][sl], c=\"m\", label=\"Input 2\")\n",
    "    plt.ylabel(\"Input\")\n",
    "    plt.legend(loc=\"best\")\n",
    "\n",
    "    plt.subplot(4, 1, 2)\n",
    "    plt.plot(t, sim.data[pre_probe].T[0][sl], c=\"b\", label=\"Pre[0]\")\n",
    "    plt.plot(t, sim.data[pre_probe].T[1][sl], c=\"c\", label=\"Pre[1]\")\n",
    "    plt.ylabel(\"Pre\")\n",
    "    plt.legend((\"Pre[0]\", \"Pre[1]\"), loc=\"best\")\n",
    "    plt.legend(loc=\"best\")\n",
    "\n",
    "    plt.subplot(4, 1, 3)\n",
    "    plt.plot(t, sim.data[post_probe][sl], c=\"b\", label=\"Post\")\n",
    "    plt.plot(t, sim.data[sum_ref_probe][sl], c=\"r\", alpha=0.75, label=\"Reference of sum\")\n",
    "    plt.ylabel(\"Post & reference\")\n",
    "    plt.legend(loc=\"best\")\n",
    "\n",
    "    plt.subplot(4, 1, 4)\n",
    "    plt.plot(t, sim.data[error_probe][sl], c=\"y\", label=\"Error\")\n",
    "    plt.ylim(-1, 1)\n",
    "    plt.ylabel(\"Error\")\n",
    "    plt.show()\n",
    "    \n",
    "plots()\n",
    "plots(start_ix=56000, end_ix=60000)"
   ]
  },
  {
   "cell_type": "code",
   "execution_count": null,
   "id": "ae598cea",
   "metadata": {},
   "outputs": [],
   "source": [
    "# The learning rates of the STDP rule were a = 0.004 and a = 0.003"
   ]
  },
  {
   "cell_type": "code",
   "execution_count": null,
   "id": "a48b914b",
   "metadata": {},
   "outputs": [],
   "source": []
  },
  {
   "cell_type": "code",
   "execution_count": null,
   "id": "b0b18a08",
   "metadata": {},
   "outputs": [],
   "source": []
  }
 ],
 "metadata": {
  "kernelspec": {
   "display_name": "Python 3 (ipykernel)",
   "language": "python",
   "name": "python3"
  },
  "language_info": {
   "codemirror_mode": {
    "name": "ipython",
    "version": 3
   },
   "file_extension": ".py",
   "mimetype": "text/x-python",
   "name": "python",
   "nbconvert_exporter": "python",
   "pygments_lexer": "ipython3",
   "version": "3.9.5"
  }
 },
 "nbformat": 4,
 "nbformat_minor": 5
}
